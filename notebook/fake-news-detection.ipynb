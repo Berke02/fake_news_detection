{
 "cells": [
  {
   "cell_type": "code",
   "execution_count": 1,
   "id": "dfdb3607",
   "metadata": {
    "execution": {
     "iopub.execute_input": "2025-06-07T23:00:42.306101Z",
     "iopub.status.busy": "2025-06-07T23:00:42.305814Z",
     "iopub.status.idle": "2025-06-07T23:00:48.371103Z",
     "shell.execute_reply": "2025-06-07T23:00:48.369966Z"
    },
    "papermill": {
     "duration": 6.07349,
     "end_time": "2025-06-07T23:00:48.373245",
     "exception": false,
     "start_time": "2025-06-07T23:00:42.299755",
     "status": "completed"
    },
    "tags": []
   },
   "outputs": [],
   "source": [
    "#Necessary Libraries\n",
    "import pandas as pd \n",
    "import re \n",
    "import nltk\n",
    "\n",
    "from sklearn.feature_extraction.text import TfidfVectorizer\n",
    "\n",
    "from sklearn.model_selection import train_test_split\n",
    "from sklearn.naive_bayes import MultinomialNB\n",
    "from sklearn.metrics import classification_report, accuracy_score\n",
    "\n",
    "from nltk.tokenize import word_tokenize\n",
    "from nltk.stem import WordNetLemmatizer\n",
    "from nltk.corpus import wordnet\n",
    "from nltk import pos_tag\n",
    "from nltk.tokenize import word_tokenize\n",
    "\n",
    "import seaborn as sns\n",
    "import matplotlib.pyplot as plt\n"
   ]
  },
  {
   "cell_type": "code",
   "execution_count": 2,
   "id": "bbf57e6b",
   "metadata": {
    "execution": {
     "iopub.execute_input": "2025-06-07T23:00:48.384368Z",
     "iopub.status.busy": "2025-06-07T23:00:48.383865Z",
     "iopub.status.idle": "2025-06-07T23:00:48.921167Z",
     "shell.execute_reply": "2025-06-07T23:00:48.919723Z"
    },
    "papermill": {
     "duration": 0.545113,
     "end_time": "2025-06-07T23:00:48.923210",
     "exception": false,
     "start_time": "2025-06-07T23:00:48.378097",
     "status": "completed"
    },
    "tags": []
   },
   "outputs": [
    {
     "name": "stderr",
     "output_type": "stream",
     "text": [
      "[nltk_data] Downloading package punkt to /usr/share/nltk_data...\n",
      "[nltk_data]   Package punkt is already up-to-date!\n",
      "[nltk_data] Downloading package wordnet to /usr/share/nltk_data...\n",
      "[nltk_data]   Package wordnet is already up-to-date!\n",
      "[nltk_data] Downloading package averaged_perceptron_tagger to\n",
      "[nltk_data]     /usr/share/nltk_data...\n",
      "[nltk_data]   Package averaged_perceptron_tagger is already up-to-\n",
      "[nltk_data]       date!\n",
      "[nltk_data] Downloading package averaged_perceptron_tagger_eng to\n",
      "[nltk_data]     /usr/share/nltk_data...\n",
      "[nltk_data]   Unzipping taggers/averaged_perceptron_tagger_eng.zip.\n"
     ]
    },
    {
     "data": {
      "text/plain": [
       "True"
      ]
     },
     "execution_count": 2,
     "metadata": {},
     "output_type": "execute_result"
    }
   ],
   "source": [
    "nltk.download('punkt')\n",
    "nltk.download('wordnet')\n",
    "nltk.download('averaged_perceptron_tagger')\n",
    "nltk.download('averaged_perceptron_tagger_eng')"
   ]
  },
  {
   "cell_type": "code",
   "execution_count": 3,
   "id": "010bf869",
   "metadata": {
    "execution": {
     "iopub.execute_input": "2025-06-07T23:00:48.934076Z",
     "iopub.status.busy": "2025-06-07T23:00:48.933755Z",
     "iopub.status.idle": "2025-06-07T23:00:51.987729Z",
     "shell.execute_reply": "2025-06-07T23:00:51.986745Z"
    },
    "papermill": {
     "duration": 3.061505,
     "end_time": "2025-06-07T23:00:51.990164",
     "exception": false,
     "start_time": "2025-06-07T23:00:48.928659",
     "status": "completed"
    },
    "tags": []
   },
   "outputs": [],
   "source": [
    "fake=pd.read_csv(\"/kaggle/input/news-dataset/Fake.csv\")\n",
    "true=pd.read_csv(\"/kaggle/input/news-dataset/True.csv\")\n"
   ]
  },
  {
   "cell_type": "code",
   "execution_count": 4,
   "id": "4bcb447f",
   "metadata": {
    "execution": {
     "iopub.execute_input": "2025-06-07T23:00:52.000050Z",
     "iopub.status.busy": "2025-06-07T23:00:51.999641Z",
     "iopub.status.idle": "2025-06-07T23:00:52.020800Z",
     "shell.execute_reply": "2025-06-07T23:00:52.019117Z"
    },
    "papermill": {
     "duration": 0.028639,
     "end_time": "2025-06-07T23:00:52.023072",
     "exception": false,
     "start_time": "2025-06-07T23:00:51.994433",
     "status": "completed"
    },
    "tags": []
   },
   "outputs": [
    {
     "name": "stdout",
     "output_type": "stream",
     "text": [
      "                                               title  \\\n",
      "0   Donald Trump Sends Out Embarrassing New Year’...   \n",
      "1   Drunk Bragging Trump Staffer Started Russian ...   \n",
      "2   Sheriff David Clarke Becomes An Internet Joke...   \n",
      "3   Trump Is So Obsessed He Even Has Obama’s Name...   \n",
      "4   Pope Francis Just Called Out Donald Trump Dur...   \n",
      "\n",
      "                                                text subject  \\\n",
      "0  Donald Trump just couldn t wish all Americans ...    News   \n",
      "1  House Intelligence Committee Chairman Devin Nu...    News   \n",
      "2  On Friday, it was revealed that former Milwauk...    News   \n",
      "3  On Christmas day, Donald Trump announced that ...    News   \n",
      "4  Pope Francis used his annual Christmas Day mes...    News   \n",
      "\n",
      "                date  \n",
      "0  December 31, 2017  \n",
      "1  December 31, 2017  \n",
      "2  December 30, 2017  \n",
      "3  December 29, 2017  \n",
      "4  December 25, 2017  \n",
      "                                               title  \\\n",
      "0  As U.S. budget fight looms, Republicans flip t...   \n",
      "1  U.S. military to accept transgender recruits o...   \n",
      "2  Senior U.S. Republican senator: 'Let Mr. Muell...   \n",
      "3  FBI Russia probe helped by Australian diplomat...   \n",
      "4  Trump wants Postal Service to charge 'much mor...   \n",
      "\n",
      "                                                text       subject  \\\n",
      "0  WASHINGTON (Reuters) - The head of a conservat...  politicsNews   \n",
      "1  WASHINGTON (Reuters) - Transgender people will...  politicsNews   \n",
      "2  WASHINGTON (Reuters) - The special counsel inv...  politicsNews   \n",
      "3  WASHINGTON (Reuters) - Trump campaign adviser ...  politicsNews   \n",
      "4  SEATTLE/WASHINGTON (Reuters) - President Donal...  politicsNews   \n",
      "\n",
      "                 date  \n",
      "0  December 31, 2017   \n",
      "1  December 29, 2017   \n",
      "2  December 31, 2017   \n",
      "3  December 30, 2017   \n",
      "4  December 29, 2017   \n"
     ]
    }
   ],
   "source": [
    "print(fake.head())\n",
    "print(true.head())"
   ]
  },
  {
   "cell_type": "markdown",
   "id": "a30e84cc",
   "metadata": {
    "papermill": {
     "duration": 0.004408,
     "end_time": "2025-06-07T23:00:52.031871",
     "exception": false,
     "start_time": "2025-06-07T23:00:52.027463",
     "status": "completed"
    },
    "tags": []
   },
   "source": [
    "As we see we imported all the dataset succesfully."
   ]
  },
  {
   "cell_type": "code",
   "execution_count": 5,
   "id": "e63eca1b",
   "metadata": {
    "execution": {
     "iopub.execute_input": "2025-06-07T23:00:52.045346Z",
     "iopub.status.busy": "2025-06-07T23:00:52.044915Z",
     "iopub.status.idle": "2025-06-07T23:00:52.053535Z",
     "shell.execute_reply": "2025-06-07T23:00:52.052123Z"
    },
    "papermill": {
     "duration": 0.016945,
     "end_time": "2025-06-07T23:00:52.055518",
     "exception": false,
     "start_time": "2025-06-07T23:00:52.038573",
     "status": "completed"
    },
    "tags": []
   },
   "outputs": [],
   "source": [
    "true[\"rate\"]=1 \n",
    "fake[\"rate\"]=0  "
   ]
  },
  {
   "cell_type": "code",
   "execution_count": 6,
   "id": "1496f725",
   "metadata": {
    "execution": {
     "iopub.execute_input": "2025-06-07T23:00:52.066654Z",
     "iopub.status.busy": "2025-06-07T23:00:52.066239Z",
     "iopub.status.idle": "2025-06-07T23:00:52.079820Z",
     "shell.execute_reply": "2025-06-07T23:00:52.078798Z"
    },
    "papermill": {
     "duration": 0.021746,
     "end_time": "2025-06-07T23:00:52.081839",
     "exception": false,
     "start_time": "2025-06-07T23:00:52.060093",
     "status": "completed"
    },
    "tags": []
   },
   "outputs": [
    {
     "name": "stdout",
     "output_type": "stream",
     "text": [
      "                                               title  \\\n",
      "0   Donald Trump Sends Out Embarrassing New Year’...   \n",
      "1   Drunk Bragging Trump Staffer Started Russian ...   \n",
      "2   Sheriff David Clarke Becomes An Internet Joke...   \n",
      "3   Trump Is So Obsessed He Even Has Obama’s Name...   \n",
      "4   Pope Francis Just Called Out Donald Trump Dur...   \n",
      "\n",
      "                                                text subject  \\\n",
      "0  Donald Trump just couldn t wish all Americans ...    News   \n",
      "1  House Intelligence Committee Chairman Devin Nu...    News   \n",
      "2  On Friday, it was revealed that former Milwauk...    News   \n",
      "3  On Christmas day, Donald Trump announced that ...    News   \n",
      "4  Pope Francis used his annual Christmas Day mes...    News   \n",
      "\n",
      "                date  rate  \n",
      "0  December 31, 2017     0  \n",
      "1  December 31, 2017     0  \n",
      "2  December 30, 2017     0  \n",
      "3  December 29, 2017     0  \n",
      "4  December 25, 2017     0  \n",
      "                                               title  \\\n",
      "0  As U.S. budget fight looms, Republicans flip t...   \n",
      "1  U.S. military to accept transgender recruits o...   \n",
      "2  Senior U.S. Republican senator: 'Let Mr. Muell...   \n",
      "3  FBI Russia probe helped by Australian diplomat...   \n",
      "4  Trump wants Postal Service to charge 'much mor...   \n",
      "\n",
      "                                                text       subject  \\\n",
      "0  WASHINGTON (Reuters) - The head of a conservat...  politicsNews   \n",
      "1  WASHINGTON (Reuters) - Transgender people will...  politicsNews   \n",
      "2  WASHINGTON (Reuters) - The special counsel inv...  politicsNews   \n",
      "3  WASHINGTON (Reuters) - Trump campaign adviser ...  politicsNews   \n",
      "4  SEATTLE/WASHINGTON (Reuters) - President Donal...  politicsNews   \n",
      "\n",
      "                 date  rate  \n",
      "0  December 31, 2017      1  \n",
      "1  December 29, 2017      1  \n",
      "2  December 31, 2017      1  \n",
      "3  December 30, 2017      1  \n",
      "4  December 29, 2017      1  \n"
     ]
    }
   ],
   "source": [
    "print(fake.head())\n",
    "print(true.head())"
   ]
  },
  {
   "cell_type": "markdown",
   "id": "aa8b6970",
   "metadata": {
    "papermill": {
     "duration": 0.00408,
     "end_time": "2025-06-07T23:00:52.091118",
     "exception": false,
     "start_time": "2025-06-07T23:00:52.087038",
     "status": "completed"
    },
    "tags": []
   },
   "source": [
    "Additionally I've added a column named rate because we are going to classify which news is fake which is not so to show machine which one is which its essential at this point."
   ]
  },
  {
   "cell_type": "code",
   "execution_count": 7,
   "id": "b229a1b1",
   "metadata": {
    "execution": {
     "iopub.execute_input": "2025-06-07T23:00:52.102730Z",
     "iopub.status.busy": "2025-06-07T23:00:52.101968Z",
     "iopub.status.idle": "2025-06-07T23:00:52.118957Z",
     "shell.execute_reply": "2025-06-07T23:00:52.117326Z"
    },
    "papermill": {
     "duration": 0.025882,
     "end_time": "2025-06-07T23:00:52.121706",
     "exception": false,
     "start_time": "2025-06-07T23:00:52.095824",
     "status": "completed"
    },
    "tags": []
   },
   "outputs": [
    {
     "data": {
      "text/plain": [
       "title      0\n",
       "text       0\n",
       "subject    0\n",
       "date       0\n",
       "rate       0\n",
       "dtype: int64"
      ]
     },
     "execution_count": 7,
     "metadata": {},
     "output_type": "execute_result"
    }
   ],
   "source": [
    "true.isnull().sum()"
   ]
  },
  {
   "cell_type": "markdown",
   "id": "797de0d5",
   "metadata": {
    "papermill": {
     "duration": 0.004641,
     "end_time": "2025-06-07T23:00:52.131211",
     "exception": false,
     "start_time": "2025-06-07T23:00:52.126570",
     "status": "completed"
    },
    "tags": []
   },
   "source": [
    "No null values means no need to remove any column or row \n",
    "Now time to merge both fake and true csv files in a one file "
   ]
  },
  {
   "cell_type": "code",
   "execution_count": 8,
   "id": "3a56cd16",
   "metadata": {
    "execution": {
     "iopub.execute_input": "2025-06-07T23:00:52.142854Z",
     "iopub.status.busy": "2025-06-07T23:00:52.142365Z",
     "iopub.status.idle": "2025-06-07T23:00:52.159059Z",
     "shell.execute_reply": "2025-06-07T23:00:52.157503Z"
    },
    "papermill": {
     "duration": 0.025422,
     "end_time": "2025-06-07T23:00:52.161058",
     "exception": false,
     "start_time": "2025-06-07T23:00:52.135636",
     "status": "completed"
    },
    "tags": []
   },
   "outputs": [
    {
     "name": "stdout",
     "output_type": "stream",
     "text": [
      "                                               title  \\\n",
      "0  As U.S. budget fight looms, Republicans flip t...   \n",
      "1  U.S. military to accept transgender recruits o...   \n",
      "2  Senior U.S. Republican senator: 'Let Mr. Muell...   \n",
      "3  FBI Russia probe helped by Australian diplomat...   \n",
      "4  Trump wants Postal Service to charge 'much mor...   \n",
      "\n",
      "                                                text       subject  \\\n",
      "0  WASHINGTON (Reuters) - The head of a conservat...  politicsNews   \n",
      "1  WASHINGTON (Reuters) - Transgender people will...  politicsNews   \n",
      "2  WASHINGTON (Reuters) - The special counsel inv...  politicsNews   \n",
      "3  WASHINGTON (Reuters) - Trump campaign adviser ...  politicsNews   \n",
      "4  SEATTLE/WASHINGTON (Reuters) - President Donal...  politicsNews   \n",
      "\n",
      "                 date  rate  \n",
      "0  December 31, 2017      1  \n",
      "1  December 29, 2017      1  \n",
      "2  December 31, 2017      1  \n",
      "3  December 30, 2017      1  \n",
      "4  December 29, 2017      1  \n"
     ]
    }
   ],
   "source": [
    "merged=pd.concat([true, fake], ignore_index=True)\n",
    "print(merged.head())"
   ]
  },
  {
   "cell_type": "markdown",
   "id": "c2658892",
   "metadata": {
    "papermill": {
     "duration": 0.005013,
     "end_time": "2025-06-07T23:00:52.170992",
     "exception": false,
     "start_time": "2025-06-07T23:00:52.165979",
     "status": "completed"
    },
    "tags": []
   },
   "source": [
    "Lets explore the dataset"
   ]
  },
  {
   "cell_type": "code",
   "execution_count": 9,
   "id": "893b9d27",
   "metadata": {
    "execution": {
     "iopub.execute_input": "2025-06-07T23:00:52.183526Z",
     "iopub.status.busy": "2025-06-07T23:00:52.183221Z",
     "iopub.status.idle": "2025-06-07T23:00:52.208941Z",
     "shell.execute_reply": "2025-06-07T23:00:52.207624Z"
    },
    "papermill": {
     "duration": 0.034008,
     "end_time": "2025-06-07T23:00:52.210754",
     "exception": false,
     "start_time": "2025-06-07T23:00:52.176746",
     "status": "completed"
    },
    "tags": []
   },
   "outputs": [
    {
     "name": "stdout",
     "output_type": "stream",
     "text": [
      "           subject  rate  count\n",
      "0  Government News     0   1570\n",
      "1      Middle-east     0    778\n",
      "2             News     0   9050\n",
      "3          US_News     0    783\n",
      "4        left-news     0   4459\n",
      "5         politics     0   6841\n",
      "6     politicsNews     1  11272\n",
      "7        worldnews     1  10145\n"
     ]
    }
   ],
   "source": [
    "#Counting how many news on every rate category\n",
    "subject_counts=merged.groupby([\"subject\", \"rate\"]).size().reset_index(name=\"count\")\n",
    "\n",
    "print(subject_counts)"
   ]
  },
  {
   "cell_type": "code",
   "execution_count": 10,
   "id": "2809006f",
   "metadata": {
    "execution": {
     "iopub.execute_input": "2025-06-07T23:00:52.225510Z",
     "iopub.status.busy": "2025-06-07T23:00:52.225171Z",
     "iopub.status.idle": "2025-06-07T23:00:52.709965Z",
     "shell.execute_reply": "2025-06-07T23:00:52.708876Z"
    },
    "papermill": {
     "duration": 0.495913,
     "end_time": "2025-06-07T23:00:52.711742",
     "exception": false,
     "start_time": "2025-06-07T23:00:52.215829",
     "status": "completed"
    },
    "tags": []
   },
   "outputs": [
    {
     "data": {
      "image/png": "[encoded data removed]",
      "text/plain": [
       "<Figure size 1200x600 with 1 Axes>"
      ]
     },
     "metadata": {},
     "output_type": "display_data"
    }
   ],
   "source": [
    "plt.figure(figsize=(12, 6))\n",
    "sns.barplot(\n",
    "    data=subject_counts,\n",
    "    x=\"subject\",\n",
    "    y=\"count\",\n",
    "    hue=\"rate\",\n",
    "    palette={0: \"red\", 1: \"green\"}\n",
    ")\n",
    "plt.title(\"Based on subject number of news True and Fake\")\n",
    "plt.xlabel(\"Subject\")\n",
    "plt.ylabel(\"Number of news\")\n",
    "plt.xticks(rotation=45)\n",
    "plt.show()"
   ]
  },
  {
   "cell_type": "code",
   "execution_count": 11,
   "id": "af8e9fc5",
   "metadata": {
    "execution": {
     "iopub.execute_input": "2025-06-07T23:00:52.724283Z",
     "iopub.status.busy": "2025-06-07T23:00:52.723954Z",
     "iopub.status.idle": "2025-06-07T23:00:52.732784Z",
     "shell.execute_reply": "2025-06-07T23:00:52.731751Z"
    },
    "papermill": {
     "duration": 0.016801,
     "end_time": "2025-06-07T23:00:52.734371",
     "exception": false,
     "start_time": "2025-06-07T23:00:52.717570",
     "status": "completed"
    },
    "tags": []
   },
   "outputs": [
    {
     "name": "stdout",
     "output_type": "stream",
     "text": [
      "   rate  count\n",
      "0     0  23481\n",
      "1     1  21417\n"
     ]
    }
   ],
   "source": [
    "#Counting how distributed the fake and true news as a number\n",
    "rate_counts=merged.groupby([\"rate\"]).size().reset_index(name=\"count\")\n",
    "\n",
    "print(rate_counts)"
   ]
  },
  {
   "cell_type": "code",
   "execution_count": 12,
   "id": "33a26e90",
   "metadata": {
    "execution": {
     "iopub.execute_input": "2025-06-07T23:00:52.747005Z",
     "iopub.status.busy": "2025-06-07T23:00:52.746672Z",
     "iopub.status.idle": "2025-06-07T23:00:52.952272Z",
     "shell.execute_reply": "2025-06-07T23:00:52.951259Z"
    },
    "papermill": {
     "duration": 0.213898,
     "end_time": "2025-06-07T23:00:52.953834",
     "exception": false,
     "start_time": "2025-06-07T23:00:52.739936",
     "status": "completed"
    },
    "tags": []
   },
   "outputs": [
    {
     "data": {
      "image/png": "[encoded data removed]",
      "text/plain": [
       "<Figure size 900x500 with 1 Axes>"
      ]
     },
     "metadata": {},
     "output_type": "display_data"
    }
   ],
   "source": [
    "plt.figure(figsize=(9, 5))\n",
    "sns.barplot(\n",
    "    data=rate_counts,\n",
    "    x=\"rate\",\n",
    "    y=\"count\",\n",
    "    hue=\"rate\",\n",
    "    palette={0: \"red\", 1: \"green\"}\n",
    ")\n",
    "plt.title(\"Based on rate, number of news True and Fake\")\n",
    "plt.xlabel(\"Rate\")\n",
    "plt.ylabel(\"Number of news\")\n",
    "plt.xticks(rotation=25)\n",
    "plt.show()"
   ]
  },
  {
   "cell_type": "code",
   "execution_count": 13,
   "id": "1610642a",
   "metadata": {
    "execution": {
     "iopub.execute_input": "2025-06-07T23:00:52.967754Z",
     "iopub.status.busy": "2025-06-07T23:00:52.967461Z",
     "iopub.status.idle": "2025-06-07T23:13:45.208398Z",
     "shell.execute_reply": "2025-06-07T23:13:45.207521Z"
    },
    "papermill": {
     "duration": 772.250297,
     "end_time": "2025-06-07T23:13:45.210159",
     "exception": false,
     "start_time": "2025-06-07T23:00:52.959862",
     "status": "completed"
    },
    "tags": []
   },
   "outputs": [],
   "source": [
    "necessary_words=[]\n",
    "lemmatizer = WordNetLemmatizer()\n",
    "for i in range (len(merged)):\n",
    "    text = merged[\"text\"].iloc[i]\n",
    "    text=text.lower() #lowering all the letters \n",
    "    text= re.sub(r'[^\\w\\s]', '', text) #Removes the punctuations\n",
    "    words=word_tokenize(text)\n",
    "    tagged=pos_tag(words)#POS tagging\n",
    "    lemmatized_words = []\n",
    "    for word, tag in tagged:\n",
    "        if tag.startswith('J'):\n",
    "            pos = wordnet.ADJ\n",
    "        elif tag.startswith('V'):\n",
    "            pos = wordnet.VERB\n",
    "        elif tag.startswith('N'):\n",
    "            pos = wordnet.NOUN\n",
    "        elif tag.startswith('R'):\n",
    "            pos = wordnet.ADV\n",
    "        else:\n",
    "            pos = wordnet.NOUN  #for deafult noun\n",
    "            \n",
    "        lemma = lemmatizer.lemmatize(word, pos)\n",
    "        lemmatized_words.append(lemma) \n",
    "    cleaned = \" \".join(lemmatized_words)#brings together again\n",
    "    necessary_words.append(cleaned)\n",
    "    \n",
    "merged[\"necessary_words\"] = necessary_words"
   ]
  },
  {
   "cell_type": "markdown",
   "id": "4f8c0830",
   "metadata": {
    "papermill": {
     "duration": 0.005824,
     "end_time": "2025-06-07T23:13:45.222835",
     "exception": false,
     "start_time": "2025-06-07T23:13:45.217011",
     "status": "completed"
    },
    "tags": []
   },
   "source": [
    "In the above part just made a processing and eliminated the unnecessary part in the title column\n",
    "Also in the above part Ive added lemmatization part to increase model accuracy. It will significantly increase the time of process."
   ]
  },
  {
   "cell_type": "code",
   "execution_count": 14,
   "id": "21bdb3f1",
   "metadata": {
    "execution": {
     "iopub.execute_input": "2025-06-07T23:13:45.236411Z",
     "iopub.status.busy": "2025-06-07T23:13:45.235641Z",
     "iopub.status.idle": "2025-06-07T23:13:45.289673Z",
     "shell.execute_reply": "2025-06-07T23:13:45.288601Z"
    },
    "papermill": {
     "duration": 0.062413,
     "end_time": "2025-06-07T23:13:45.291259",
     "exception": false,
     "start_time": "2025-06-07T23:13:45.228846",
     "status": "completed"
    },
    "tags": []
   },
   "outputs": [
    {
     "name": "stdout",
     "output_type": "stream",
     "text": [
      "                                               title  \\\n",
      "0   BREAKING: GOP Chairman Grassley Has Had Enoug...   \n",
      "1   Failed GOP Candidates Remembered In Hilarious...   \n",
      "2   Mike Pence’s New DC Neighbors Are HILARIOUSLY...   \n",
      "3  California AG pledges to defend birth control ...   \n",
      "4  AZ RANCHERS Living On US-Mexico Border Destroy...   \n",
      "\n",
      "                                                text       subject  \\\n",
      "0  Donald Trump s White House is in chaos, and th...          News   \n",
      "1  Now that Donald Trump is the presumptive GOP n...          News   \n",
      "2  Mike Pence is a huge homophobe. He supports ex...          News   \n",
      "3  SAN FRANCISCO (Reuters) - California Attorney ...  politicsNews   \n",
      "4  Twisted reasoning is all that comes from Pelos...      politics   \n",
      "\n",
      "               date  rate                                    necessary_words  \n",
      "0     July 21, 2017     0  donald trump s white house be in chaos and the...  \n",
      "1       May 7, 2016     0  now that donald trump be the presumptive gop n...  \n",
      "2  December 3, 2016     0  mike penny be a huge homophobe he support exga...  \n",
      "3  October 6, 2017      1  san francisco reuters california attorney gene...  \n",
      "4      Apr 25, 2017     0  twisted reasoning be all that come from pelosi...  \n"
     ]
    }
   ],
   "source": [
    "merged=merged.sample(frac=1, random_state=42).reset_index(drop=True)\n",
    "#Shuffled the dataset because its not based on time series(historical)dataset\n",
    "print(merged.head())\n",
    "\n",
    "#Now checking is there any big mistakes"
   ]
  },
  {
   "cell_type": "markdown",
   "id": "6b588aa6",
   "metadata": {
    "papermill": {
     "duration": 0.005745,
     "end_time": "2025-06-07T23:13:45.303320",
     "exception": false,
     "start_time": "2025-06-07T23:13:45.297575",
     "status": "completed"
    },
    "tags": []
   },
   "source": [
    "Very good we shuffled the dataset to decrease overfitting "
   ]
  },
  {
   "cell_type": "code",
   "execution_count": 15,
   "id": "00cac8cf",
   "metadata": {
    "execution": {
     "iopub.execute_input": "2025-06-07T23:13:45.317040Z",
     "iopub.status.busy": "2025-06-07T23:13:45.316661Z",
     "iopub.status.idle": "2025-06-07T23:14:01.049266Z",
     "shell.execute_reply": "2025-06-07T23:14:01.048407Z"
    },
    "papermill": {
     "duration": 15.741297,
     "end_time": "2025-06-07T23:14:01.051017",
     "exception": false,
     "start_time": "2025-06-07T23:13:45.309720",
     "status": "completed"
    },
    "tags": []
   },
   "outputs": [],
   "source": [
    "vectorizer = TfidfVectorizer(max_features=5000)#Most frequent 5000 words in dataset(TermFrequency)\n",
    "X = vectorizer.fit_transform(merged[\"necessary_words\"]).toarray()# X are the feature which we need is necessary_words column\n",
    "y = merged[\"rate\"] #y is our target which is rate column because model has to predict is entry 1 or 0 (True or fake)\n"
   ]
  },
  {
   "cell_type": "code",
   "execution_count": 16,
   "id": "ed023ed9",
   "metadata": {
    "execution": {
     "iopub.execute_input": "2025-06-07T23:14:01.065085Z",
     "iopub.status.busy": "2025-06-07T23:14:01.064275Z",
     "iopub.status.idle": "2025-06-07T23:14:01.829970Z",
     "shell.execute_reply": "2025-06-07T23:14:01.828969Z"
    },
    "papermill": {
     "duration": 0.774283,
     "end_time": "2025-06-07T23:14:01.831714",
     "exception": false,
     "start_time": "2025-06-07T23:14:01.057431",
     "status": "completed"
    },
    "tags": []
   },
   "outputs": [],
   "source": [
    "#Splitting the dataset into train adn test sets .2 for test .8 for training\n",
    "X_train, X_test, y_train, y_test=train_test_split(X, y, test_size=0.2, random_state=42)"
   ]
  },
  {
   "cell_type": "code",
   "execution_count": 17,
   "id": "0fe8e3e8",
   "metadata": {
    "execution": {
     "iopub.execute_input": "2025-06-07T23:14:01.845661Z",
     "iopub.status.busy": "2025-06-07T23:14:01.845376Z",
     "iopub.status.idle": "2025-06-07T23:14:02.367828Z",
     "shell.execute_reply": "2025-06-07T23:14:02.367012Z"
    },
    "papermill": {
     "duration": 0.531002,
     "end_time": "2025-06-07T23:14:02.369266",
     "exception": false,
     "start_time": "2025-06-07T23:14:01.838264",
     "status": "completed"
    },
    "tags": []
   },
   "outputs": [
    {
     "data": {
      "text/html": [
       "<style>#sk-container-id-1 {color: black;background-color: white;}#sk-container-id-1 pre{padding: 0;}#sk-container-id-1 div.sk-toggleable {background-color: white;}#sk-container-id-1 label.sk-toggleable__label {cursor: pointer;display: block;width: 100%;margin-bottom: 0;padding: 0.3em;box-sizing: border-box;text-align: center;}#sk-container-id-1 label.sk-toggleable__label-arrow:before {content: \"▸\";float: left;margin-right: 0.25em;color: #696969;}#sk-container-id-1 label.sk-toggleable__label-arrow:hover:before {color: black;}#sk-container-id-1 div.sk-estimator:hover label.sk-toggleable__label-arrow:before {color: black;}#sk-container-id-1 div.sk-toggleable__content {max-height: 0;max-width: 0;overflow: hidden;text-align: left;background-color: #f0f8ff;}#sk-container-id-1 div.sk-toggleable__content pre {margin: 0.2em;color: black;border-radius: 0.25em;background-color: #f0f8ff;}#sk-container-id-1 input.sk-toggleable__control:checked~div.sk-toggleable__content {max-height: 200px;max-width: 100%;overflow: auto;}#sk-container-id-1 input.sk-toggleable__control:checked~label.sk-toggleable__label-arrow:before {content: \"▾\";}#sk-container-id-1 div.sk-estimator input.sk-toggleable__control:checked~label.sk-toggleable__label {background-color: #d4ebff;}#sk-container-id-1 div.sk-label input.sk-toggleable__control:checked~label.sk-toggleable__label {background-color: #d4ebff;}#sk-container-id-1 input.sk-hidden--visually {border: 0;clip: rect(1px 1px 1px 1px);clip: rect(1px, 1px, 1px, 1px);height: 1px;margin: -1px;overflow: hidden;padding: 0;position: absolute;width: 1px;}#sk-container-id-1 div.sk-estimator {font-family: monospace;background-color: #f0f8ff;border: 1px dotted black;border-radius: 0.25em;box-sizing: border-box;margin-bottom: 0.5em;}#sk-container-id-1 div.sk-estimator:hover {background-color: #d4ebff;}#sk-container-id-1 div.sk-parallel-item::after {content: \"\";width: 100%;border-bottom: 1px solid gray;flex-grow: 1;}#sk-container-id-1 div.sk-label:hover label.sk-toggleable__label {background-color: #d4ebff;}#sk-container-id-1 div.sk-serial::before {content: \"\";position: absolute;border-left: 1px solid gray;box-sizing: border-box;top: 0;bottom: 0;left: 50%;z-index: 0;}#sk-container-id-1 div.sk-serial {display: flex;flex-direction: column;align-items: center;background-color: white;padding-right: 0.2em;padding-left: 0.2em;position: relative;}#sk-container-id-1 div.sk-item {position: relative;z-index: 1;}#sk-container-id-1 div.sk-parallel {display: flex;align-items: stretch;justify-content: center;background-color: white;position: relative;}#sk-container-id-1 div.sk-item::before, #sk-container-id-1 div.sk-parallel-item::before {content: \"\";position: absolute;border-left: 1px solid gray;box-sizing: border-box;top: 0;bottom: 0;left: 50%;z-index: -1;}#sk-container-id-1 div.sk-parallel-item {display: flex;flex-direction: column;z-index: 1;position: relative;background-color: white;}#sk-container-id-1 div.sk-parallel-item:first-child::after {align-self: flex-end;width: 50%;}#sk-container-id-1 div.sk-parallel-item:last-child::after {align-self: flex-start;width: 50%;}#sk-container-id-1 div.sk-parallel-item:only-child::after {width: 0;}#sk-container-id-1 div.sk-dashed-wrapped {border: 1px dashed gray;margin: 0 0.4em 0.5em 0.4em;box-sizing: border-box;padding-bottom: 0.4em;background-color: white;}#sk-container-id-1 div.sk-label label {font-family: monospace;font-weight: bold;display: inline-block;line-height: 1.2em;}#sk-container-id-1 div.sk-label-container {text-align: center;}#sk-container-id-1 div.sk-container {/* jupyter's `normalize.less` sets `[hidden] { display: none; }` but bootstrap.min.css set `[hidden] { display: none !important; }` so we also need the `!important` here to be able to override the default hidden behavior on the sphinx rendered scikit-learn.org. See: https://github.com/scikit-learn/scikit-learn/issues/21755 */display: inline-block !important;position: relative;}#sk-container-id-1 div.sk-text-repr-fallback {display: none;}</style><div id=\"sk-container-id-1\" class=\"sk-top-container\"><div class=\"sk-text-repr-fallback\"><pre>MultinomialNB()</pre><b>In a Jupyter environment, please rerun this cell to show the HTML representation or trust the notebook. <br />On GitHub, the HTML representation is unable to render, please try loading this page with nbviewer.org.</b></div><div class=\"sk-container\" hidden><div class=\"sk-item\"><div class=\"sk-estimator sk-toggleable\"><input class=\"sk-toggleable__control sk-hidden--visually\" id=\"sk-estimator-id-1\" type=\"checkbox\" checked><label for=\"sk-estimator-id-1\" class=\"sk-toggleable__label sk-toggleable__label-arrow\">MultinomialNB</label><div class=\"sk-toggleable__content\"><pre>MultinomialNB()</pre></div></div></div></div></div>"
      ],
      "text/plain": [
       "MultinomialNB()"
      ]
     },
     "execution_count": 17,
     "metadata": {},
     "output_type": "execute_result"
    }
   ],
   "source": [
    "#Setting up the model and training\n",
    "model=MultinomialNB()\n",
    "\n",
    "model.fit(X_train, y_train)"
   ]
  },
  {
   "cell_type": "code",
   "execution_count": 18,
   "id": "38c34048",
   "metadata": {
    "execution": {
     "iopub.execute_input": "2025-06-07T23:14:02.383523Z",
     "iopub.status.busy": "2025-06-07T23:14:02.383178Z",
     "iopub.status.idle": "2025-06-07T23:14:02.459931Z",
     "shell.execute_reply": "2025-06-07T23:14:02.459009Z"
    },
    "papermill": {
     "duration": 0.085867,
     "end_time": "2025-06-07T23:14:02.461712",
     "exception": false,
     "start_time": "2025-06-07T23:14:02.375845",
     "status": "completed"
    },
    "tags": []
   },
   "outputs": [],
   "source": [
    "#Time to make some test \n",
    "y_pred = model.predict(X_test)"
   ]
  },
  {
   "cell_type": "markdown",
   "id": "1c8d47c9",
   "metadata": {
    "papermill": {
     "duration": 0.00606,
     "end_time": "2025-06-07T23:14:02.474319",
     "exception": false,
     "start_time": "2025-06-07T23:14:02.468259",
     "status": "completed"
    },
    "tags": []
   },
   "source": [
    "# RESULTS"
   ]
  },
  {
   "cell_type": "code",
   "execution_count": 19,
   "id": "6a977897",
   "metadata": {
    "execution": {
     "iopub.execute_input": "2025-06-07T23:14:02.488617Z",
     "iopub.status.busy": "2025-06-07T23:14:02.487942Z",
     "iopub.status.idle": "2025-06-07T23:14:02.513086Z",
     "shell.execute_reply": "2025-06-07T23:14:02.512155Z"
    },
    "papermill": {
     "duration": 0.034038,
     "end_time": "2025-06-07T23:14:02.514674",
     "exception": false,
     "start_time": "2025-06-07T23:14:02.480636",
     "status": "completed"
    },
    "tags": []
   },
   "outputs": [
    {
     "name": "stdout",
     "output_type": "stream",
     "text": [
      "0.9326280623608018\n",
      "              precision    recall  f1-score   support\n",
      "\n",
      "           0       0.93      0.94      0.94      4669\n",
      "           1       0.93      0.93      0.93      4311\n",
      "\n",
      "    accuracy                           0.93      8980\n",
      "   macro avg       0.93      0.93      0.93      8980\n",
      "weighted avg       0.93      0.93      0.93      8980\n",
      "\n"
     ]
    }
   ],
   "source": [
    "print(accuracy_score(y_test, y_pred))\n",
    "print(classification_report(y_test, y_pred))"
   ]
  }
 ],
 "metadata": {
  "kaggle": {
   "accelerator": "none",
   "dataSources": [
    {
     "datasetId": 7610028,
     "sourceId": 12088847,
     "sourceType": "datasetVersion"
    }
   ],
   "dockerImageVersionId": 31040,
   "isGpuEnabled": false,
   "isInternetEnabled": true,
   "language": "python",
   "sourceType": "notebook"
  },
  "kernelspec": {
   "display_name": "Python 3",
   "language": "python",
   "name": "python3"
  },
  "language_info": {
   "codemirror_mode": {
    "name": "ipython",
    "version": 3
   },
   "file_extension": ".py",
   "mimetype": "text/x-python",
   "name": "python",
   "nbconvert_exporter": "python",
   "pygments_lexer": "ipython3",
   "version": "3.11.11"
  },
  "papermill": {
   "default_parameters": {},
   "duration": 807.177878,
   "end_time": "2025-06-07T23:14:03.943910",
   "environment_variables": {},
   "exception": null,
   "input_path": "__notebook__.ipynb",
   "output_path": "__notebook__.ipynb",
   "parameters": {},
   "start_time": "2025-06-07T23:00:36.766032",
   "version": "2.6.0"
  }
 },
 "nbformat": 4,
 "nbformat_minor": 5
}
